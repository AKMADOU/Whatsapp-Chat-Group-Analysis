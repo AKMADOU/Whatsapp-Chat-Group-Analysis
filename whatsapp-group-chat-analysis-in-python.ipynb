{
 "cells": [
  {
   "cell_type": "markdown",
   "metadata": {},
   "source": [
    "# Whatsapp Group Chat Data Analysis"
   ]
  },
  {
   "cell_type": "markdown",
   "metadata": {},
   "source": [
    "**Purpose of project**\n",
    "* Find most active users in the group\n",
    "* Find time when most users are active\n",
    "\n",
    "**Scope**\n",
    "* Sentiment Analysis on individual member\n",
    "* Sentiment Analysis on Over-all group chat \n",
    "\n",
    "**Assumptions**\n",
    "* Group has more than 10 active members\n",
    "* You know how to export whatsapp group chat and enter file path when prompted in code\n",
    "\n",
    "**How To Use this Notebook**\n",
    "* Steps to follow:\n",
    "    * Export Whatsapp group chat as txt\n",
    "    * Make a copy of this notebook\n",
    "    * You will be prompted to enter file path in *1.2. Load Whatsapp Group Chat Data*\n",
    "    * Enter the path of your chat export\n",
    "\n",
    "**This workbook is interactive. \n",
    "You will be prompted to give input file path of your Whatsapp chat export**"
   ]
  },
  {
   "cell_type": "markdown",
   "metadata": {},
   "source": [
    "## 1. Data Sourcing"
   ]
  },
  {
   "cell_type": "markdown",
   "metadata": {},
   "source": [
    "### 1.1. Import Libraries"
   ]
  },
  {
   "cell_type": "code",
   "execution_count": 1,
   "metadata": {},
   "outputs": [],
   "source": [
    "# Import libraries to be used\n",
    "import pandas as pd\n",
    "import numpy as np\n",
    "import re\n",
    "import matplotlib as mpl\n",
    "import matplotlib.pyplot as plt\n",
    "from matplotlib.gridspec import GridSpec"
   ]
  },
  {
   "cell_type": "markdown",
   "metadata": {},
   "source": [
    "### 1.2. Load Whatsapp Group Chat Data"
   ]
  },
  {
   "cell_type": "code",
   "execution_count": 4,
   "metadata": {
    "scrolled": true
   },
   "outputs": [
    {
     "name": "stdout",
     "output_type": "stream",
     "text": [
      "C:\\Users\\Sakayo\\Desktop\\AIMS\\ChatAnalysis\\WhatsAppChat.txt \n",
      "WhatsAppChat.txt\n"
     ]
    },
    {
     "name": "stderr",
     "output_type": "stream",
     "text": [
      "C:\\Users\\Sakayo\\Anaconda3\\lib\\site-packages\\ipykernel_launcher.py:2: ParserWarning: Falling back to the 'python' engine because the 'c' engine does not support regex separators (separators > 1 char and different from '\\s+' are interpreted as regex); you can avoid this warning by specifying engine='python'.\n",
      "  \n"
     ]
    }
   ],
   "source": [
    "filepath = input(\"C:\\\\Users\\\\Sakayo\\\\Desktop\\\\AIMS\\\\ChatAnalysis\\\\WhatsAppChat.txt \\n\")\n",
    "df = pd.read_csv(filepath, sep = \"delimiter\",skip_blank_lines = True, header = None)\n",
    "\n"
   ]
  },
  {
   "cell_type": "markdown",
   "metadata": {},
   "source": [
    "## 2. Data Preperation"
   ]
  },
  {
   "cell_type": "code",
   "execution_count": null,
   "metadata": {},
   "outputs": [],
   "source": [
    "# extract date values and return as list of string\n",
    "def getdate(x):\n",
    "    res = re.search(\"\\d\\d/\\d\\d/\\d\\d\",x)\n",
    "    if res != None:\n",
    "        return res.group()\n",
    "    else:\n",
    "        return \"\"\n",
    "#datepattern = re.compile(\"../../..\")\n",
    "df[\"Date\"] = list(map(lambda x : getdate(x), df.iloc[:,0]))\n",
    "\n",
    "\n",
    "## Merge multiline chat data\n",
    "## Need to optimize this block\n",
    "for i in range(0,len(df)):\n",
    "    if df[\"Date\"][i] == \"\":\n",
    "        c=i-1\n",
    "        for j in range(i,len(df)):\n",
    "            if df[\"Date\"][j] == \"\":\n",
    "                df.iloc[c,0] = \" \".join([df.iloc[c,0],df.iloc[j,0]])\n",
    "                    \n",
    "            else:\n",
    "                i=j-1\n",
    "                break\n",
    "    else:\n",
    "        df.iloc[i,0] = df.iloc[i,0]\n",
    "        \n",
    "        \n",
    "## Remove rows where date is empty\n",
    "df.drop(np.where(df.iloc[:,1]==\"\")[0],inplace =True)\n",
    "## Reindex the dataframe\n",
    "df.index = range(0,len(df))\n",
    "\n",
    "\n",
    "##Remove date from original text data using substitute function of regular expression\n",
    "df.iloc[:,0] = list(map(lambda x : re.sub(\"../../..\",\"\", x)[2:],df.iloc[:,0]))\n",
    "\n",
    "\n",
    "\n",
    "## Extract Day Month and Year from Date \n",
    "df[\"Day\"] = list(map(lambda d : d.split(\"/\")[0], df.Date))\n",
    "df[\"Months\"] = list(map(lambda d : d.split(\"/\")[1], df.Date))\n",
    "df[\"Year\"] = list(map(lambda d : d.split(\"/\")[2], df.Date))\n",
    "\n",
    "\n"
   ]
  },
  {
   "cell_type": "code",
   "execution_count": null,
   "metadata": {},
   "outputs": [],
   "source": [
    "df.head(3)"
   ]
  },
  {
   "cell_type": "markdown",
   "metadata": {},
   "source": [
    "## 3. Data Exploration"
   ]
  },
  {
   "cell_type": "code",
   "execution_count": 4,
   "metadata": {
    "scrolled": true
   },
   "outputs": [
    {
     "ename": "NameError",
     "evalue": "name 'df' is not defined",
     "output_type": "error",
     "traceback": [
      "\u001b[0;31m---------------------------------------------------------------------------\u001b[0m",
      "\u001b[0;31mNameError\u001b[0m                                 Traceback (most recent call last)",
      "\u001b[0;32m<ipython-input-4-c42a15b2c7cf>\u001b[0m in \u001b[0;36m<module>\u001b[0;34m\u001b[0m\n\u001b[0;32m----> 1\u001b[0;31m \u001b[0mdf\u001b[0m\u001b[0;34m.\u001b[0m\u001b[0mhead\u001b[0m\u001b[0;34m(\u001b[0m\u001b[0;34m)\u001b[0m\u001b[0;34m\u001b[0m\u001b[0m\n\u001b[0m",
      "\u001b[0;31mNameError\u001b[0m: name 'df' is not defined"
     ]
    }
   ],
   "source": [
    "df.head()"
   ]
  },
  {
   "cell_type": "code",
   "execution_count": 5,
   "metadata": {},
   "outputs": [
    {
     "ename": "NameError",
     "evalue": "name 'df' is not defined",
     "output_type": "error",
     "traceback": [
      "\u001b[0;31m---------------------------------------------------------------------------\u001b[0m",
      "\u001b[0;31mNameError\u001b[0m                                 Traceback (most recent call last)",
      "\u001b[0;32m<ipython-input-5-5d089a1575ab>\u001b[0m in \u001b[0;36m<module>\u001b[0;34m\u001b[0m\n\u001b[1;32m      2\u001b[0m \u001b[0;34m\u001b[0m\u001b[0m\n\u001b[1;32m      3\u001b[0m \u001b[0;31m## Find unique members in group\u001b[0m\u001b[0;34m\u001b[0m\u001b[0;34m\u001b[0m\u001b[0m\n\u001b[0;32m----> 4\u001b[0;31m \u001b[0mgroup_members\u001b[0m \u001b[0;34m=\u001b[0m \u001b[0mlist\u001b[0m\u001b[0;34m(\u001b[0m\u001b[0mset\u001b[0m\u001b[0;34m(\u001b[0m\u001b[0mdf\u001b[0m\u001b[0;34m[\u001b[0m\u001b[0;34m\"sender\"\u001b[0m\u001b[0;34m]\u001b[0m\u001b[0;34m)\u001b[0m\u001b[0;34m)\u001b[0m\u001b[0;34m\u001b[0m\u001b[0m\n\u001b[0m\u001b[1;32m      5\u001b[0m \u001b[0;34m\u001b[0m\u001b[0m\n\u001b[1;32m      6\u001b[0m \u001b[0;31m## Find count of messages shared by each member\u001b[0m\u001b[0;34m\u001b[0m\u001b[0;34m\u001b[0m\u001b[0m\n",
      "\u001b[0;31mNameError\u001b[0m: name 'df' is not defined"
     ]
    }
   ],
   "source": [
    "## Preparing data for visualisation\n",
    "\n",
    "## Find unique members in group\n",
    "group_members = list(set(df[\"sender\"]))\n",
    "\n",
    "## Find count of messages shared by each member\n",
    "n_message = list(map(lambda x : len(np.where(df[\"sender\"]==x)[0]),group_members)) \n",
    "\n",
    "## Create a dataframe to store above values\n",
    "activity_data = pd.DataFrame({\"sender\": group_members,\"n_count\":n_message})\n",
    "## Sort data for convenience and rearrange index\n",
    "activity_data = activity_data.sort_values(by=[\"n_count\"], ascending=False)\n",
    "activity_data.index = range(0,len(activity_data))\n",
    "\n",
    "## creating groups of data by time meridian\n",
    "timemeridian = df.groupby(by = \"AmPm\")\n",
    "\n",
    "amhours = timemeridian.get_group(\"am\")\n",
    "pmhours = timemeridian.get_group(\"pm\")\n",
    "\n",
    "## getting hourly activity counts\n",
    "amhourcounts = amhours.Hour.value_counts().sort_index()\n",
    "pmhourcounts = pmhours.Hour.value_counts().sort_index()"
   ]
  },
  {
   "cell_type": "markdown",
   "metadata": {},
   "source": [
    "### 3.1 Top Active Members"
   ]
  },
  {
   "cell_type": "code",
   "execution_count": 6,
   "metadata": {},
   "outputs": [
    {
     "ename": "NameError",
     "evalue": "name 'activity_data' is not defined",
     "output_type": "error",
     "traceback": [
      "\u001b[0;31m---------------------------------------------------------------------------\u001b[0m",
      "\u001b[0;31mNameError\u001b[0m                                 Traceback (most recent call last)",
      "\u001b[0;32m<ipython-input-6-3240a97c81ab>\u001b[0m in \u001b[0;36m<module>\u001b[0;34m\u001b[0m\n\u001b[1;32m      1\u001b[0m \u001b[0;31m## Most active members in group\u001b[0m\u001b[0;34m\u001b[0m\u001b[0;34m\u001b[0m\u001b[0m\n\u001b[1;32m      2\u001b[0m \u001b[0;34m\u001b[0m\u001b[0m\n\u001b[0;32m----> 3\u001b[0;31m \u001b[0mX\u001b[0m \u001b[0;34m=\u001b[0m \u001b[0mactivity_data\u001b[0m\u001b[0;34m[\u001b[0m\u001b[0;34m\"sender\"\u001b[0m\u001b[0;34m]\u001b[0m\u001b[0;34m[\u001b[0m\u001b[0;34m:\u001b[0m\u001b[0;36m10\u001b[0m\u001b[0;34m]\u001b[0m\u001b[0;34m\u001b[0m\u001b[0m\n\u001b[0m\u001b[1;32m      4\u001b[0m \u001b[0mY\u001b[0m \u001b[0;34m=\u001b[0m \u001b[0mactivity_data\u001b[0m\u001b[0;34m.\u001b[0m\u001b[0mn_count\u001b[0m\u001b[0;34m[\u001b[0m\u001b[0;34m:\u001b[0m\u001b[0;36m10\u001b[0m\u001b[0;34m]\u001b[0m\u001b[0;34m\u001b[0m\u001b[0m\n\u001b[1;32m      5\u001b[0m \u001b[0;34m\u001b[0m\u001b[0m\n",
      "\u001b[0;31mNameError\u001b[0m: name 'activity_data' is not defined"
     ]
    }
   ],
   "source": [
    "## Most active members in group\n",
    "\n",
    "X = activity_data[\"sender\"][:10]\n",
    "Y = activity_data.n_count[:10]\n",
    "\n",
    "plt.figure(figsize=[10,10])\n",
    "\n",
    "plt.title(\"Top 10 Active Members\", size = 16)\n",
    "\n",
    "plt.bar(x = X, height= Y, color = \"seagreen\")\n",
    "plt.xticks(rotation = 90, size = 12)\n",
    "plt.yticks(size = 12)\n",
    "\n",
    "for i in range(0,10):\n",
    "    plt.annotate(s = Y[i], xy = (i-0.25,Y[i]+5), size = 12)\n",
    "\n",
    "plt.show()\n"
   ]
  },
  {
   "cell_type": "markdown",
   "metadata": {},
   "source": [
    "### 3.2 Activity Throughout Day"
   ]
  },
  {
   "cell_type": "code",
   "execution_count": 7,
   "metadata": {},
   "outputs": [
    {
     "ename": "NameError",
     "evalue": "name 'amhourcounts' is not defined",
     "output_type": "error",
     "traceback": [
      "\u001b[0;31m---------------------------------------------------------------------------\u001b[0m",
      "\u001b[0;31mNameError\u001b[0m                                 Traceback (most recent call last)",
      "\u001b[0;32m<ipython-input-7-d672d073f798>\u001b[0m in \u001b[0;36m<module>\u001b[0;34m\u001b[0m\n\u001b[1;32m     12\u001b[0m \u001b[0;34m\u001b[0m\u001b[0m\n\u001b[1;32m     13\u001b[0m \u001b[0;31m# Pie plot for messages shared in AM time meridian\u001b[0m\u001b[0;34m\u001b[0m\u001b[0;34m\u001b[0m\u001b[0m\n\u001b[0;32m---> 14\u001b[0;31m \u001b[0max1\u001b[0m\u001b[0;34m.\u001b[0m\u001b[0mpie\u001b[0m\u001b[0;34m(\u001b[0m\u001b[0mamhourcounts\u001b[0m\u001b[0;34m.\u001b[0m\u001b[0mvalues\u001b[0m\u001b[0;34m,\u001b[0m \u001b[0mlabels\u001b[0m \u001b[0;34m=\u001b[0m \u001b[0mamhourcounts\u001b[0m\u001b[0;34m.\u001b[0m\u001b[0mindex\u001b[0m\u001b[0;34m)\u001b[0m\u001b[0;34m\u001b[0m\u001b[0m\n\u001b[0m\u001b[1;32m     15\u001b[0m \u001b[0max1\u001b[0m\u001b[0;34m.\u001b[0m\u001b[0mset_title\u001b[0m\u001b[0;34m(\u001b[0m\u001b[0;34m\"AM\"\u001b[0m\u001b[0;34m)\u001b[0m\u001b[0;34m\u001b[0m\u001b[0m\n\u001b[1;32m     16\u001b[0m \u001b[0;31m# Bar plot for messages shared in AM time meridian\u001b[0m\u001b[0;34m\u001b[0m\u001b[0;34m\u001b[0m\u001b[0m\n",
      "\u001b[0;31mNameError\u001b[0m: name 'amhourcounts' is not defined"
     ]
    },
    {
     "data": {
      "image/png": "[encoded data removed]",
      "text/plain": [
       "<Figure size 1440x720 with 5 Axes>"
      ]
     },
     "metadata": {
      "needs_background": "light"
     },
     "output_type": "display_data"
    }
   ],
   "source": [
    "fig = plt.figure(figsize=[20,10])\n",
    "mpl.rcParams['font.size'] = 14.0\n",
    "\n",
    "fig.suptitle(\"Activity wrt Time Meridian\", size = 16)\n",
    "\n",
    "gs = GridSpec(2,3) # 2 rows and 3 columns\n",
    "ax1 = fig.add_subplot(gs[0,0]) # first row, first col\n",
    "ax2 = fig.add_subplot(gs[0,1]) # first row, second col\n",
    "ax3 = fig.add_subplot(gs[1,0]) # second row, first col\n",
    "ax4 = fig.add_subplot(gs[1,1]) # second row, second col\n",
    "ax5 = fig.add_subplot(gs[:,2]) # all row, third col\n",
    "\n",
    "# Pie plot for messages shared in AM time meridian\n",
    "ax1.pie(amhourcounts.values, labels = amhourcounts.index)\n",
    "ax1.set_title(\"AM\")\n",
    "# Bar plot for messages shared in AM time meridian\n",
    "ax2.bar(amhourcounts.index,amhourcounts.values)\n",
    "\n",
    "# Pie plot for messages shared in PM time meridian\n",
    "ax3.pie(pmhourcounts.values, labels = pmhourcounts.index)\n",
    "ax3.set_title(\"PM\")\n",
    "# Bar plot for messages shared in PM time meridian\n",
    "ax4.bar(pmhourcounts.index,pmhourcounts.values)\n",
    "\n",
    "# Bar plot showing AM vs PM\n",
    "ax5.bar([\"AM\",\"PM\"], [len(amhours),len(pmhours)])\n",
    "ax5.annotate(s = str(round(100*len(amhours)/(len(amhours)+len(pmhours)))) + \"%\", xy = [0,len(amhours)/2], color = \"white\", size = 14, horizontalalignment = \"center\")\n",
    "ax5.annotate(s = str(round(100*len(pmhours)/(len(amhours)+len(pmhours)))) + \"%\", xy = [1,len(pmhours)/2], color = \"white\", size = 14, horizontalalignment = \"center\")\n",
    "\n",
    "\n",
    "plt.show()"
   ]
  }
 ],
 "metadata": {
  "kernelspec": {
   "display_name": "Python 3",
   "language": "python",
   "name": "python3"
  },
  "language_info": {
   "codemirror_mode": {
    "name": "ipython",
    "version": 3
   },
   "file_extension": ".py",
   "mimetype": "text/x-python",
   "name": "python",
   "nbconvert_exporter": "python",
   "pygments_lexer": "ipython3",
   "version": "3.7.3"
  }
 },
 "nbformat": 4,
 "nbformat_minor": 1
}
